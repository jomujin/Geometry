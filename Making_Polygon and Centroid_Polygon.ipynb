{
 "cells": [
  {
   "cell_type": "code",
   "execution_count": 121,
   "metadata": {},
   "outputs": [],
   "source": [
    "import matplotlib as mpl\n",
    "import matplotlib.pyplot as plt\n",
    "from shapely.geometry import *\n",
    "import random as rd\n",
    "import math"
   ]
  },
  {
   "cell_type": "code",
   "execution_count": 122,
   "metadata": {},
   "outputs": [],
   "source": [
    "# 다각형의 점 만들기(랜덤범위1, 랜덤범위2, 점 개수)\n",
    "\n",
    "def making_pts(r1, r2, n):\n",
    "    pts = []\n",
    "    while len(pts) < n:\n",
    "        x, y = rd.randint(r1, r2), rd.randint(r1, r2)\n",
    "        if (x, y) not in pts:\n",
    "            pts.append((x, y))\n",
    "    return pts"
   ]
  },
  {
   "cell_type": "code",
   "execution_count": 123,
   "metadata": {},
   "outputs": [],
   "source": [
    "# 각도 계산(두 점)\n",
    "\n",
    "import math\n",
    "\n",
    "def calculating_Angle(pt1, pt2):\n",
    "    dx, dy = (pt2[0] - pt1[0]), (pt2[1] - pt1[1])\n",
    "    if dx >= 0 and dy == 0:\n",
    "        angle = 0\n",
    "    else:\n",
    "        angle = math.atan2(dy, dx) * 180 / math.pi\n",
    "    return angle"
   ]
  },
  {
   "cell_type": "code",
   "execution_count": 124,
   "metadata": {},
   "outputs": [],
   "source": [
    "# 단순 다각형 만들기(포인트 리스트)\n",
    "# 단순 다각형은 연속한 두 변 이외에는 어느 두 변도 교차하지 않는 다각형\n",
    "# 여러 개의 점을 입력 받은 다음 단순 다각형을 만들어서 출력하는 프로그램 구현\n",
    "\n",
    "# 가장 낮은 y좌표를 가지는 기준점을 잡는다 (y좌표 동일한 경우 x 좌표까지(가장 낮은값) 계산)\n",
    "# 기준점에서 출발하는 x축 반 직선을 그린다\n",
    "# 기준선과 각 점들의 각도를 계산한다\n",
    "# 낮은 각도부터 순서대로 연결한다\n",
    "\n",
    "def making_Polygon(pts):\n",
    "    angle_list = []\n",
    "    result = [0 for _ in range(len(pts))]\n",
    "    pts = sorted(pts, key=lambda x: (x[1], x[0]))\n",
    "    standard_pt = pts[0]\n",
    "    for pt in pts[1:]:\n",
    "        angle_of_pt = calculating_Angle(standard_pt, pt)\n",
    "        angle_list.append([angle_of_pt, pt])\n",
    "    angle_list = sorted(angle_list, key = lambda x: (x[0], x[1][0], -x[1][1]))\n",
    "    result[0] = standard_pt\n",
    "    for idx, i in enumerate(angle_list):\n",
    "        result[idx+1] = i[1]\n",
    "    return result"
   ]
  },
  {
   "cell_type": "code",
   "execution_count": 125,
   "metadata": {},
   "outputs": [],
   "source": [
    "# 다각형의 면적 구하기(포인트 리스트)\n",
    "# 공식\n",
    "# A(area) = 1/2(i=0, n-1)sigma (xi yi+1 - xi+1 yi)\n",
    "# 첫 점이 마지막 점으로 오는 닫힌 폴리곤 리스트\n",
    "# 시계방향 혹은 반시계방향으로 정렬된 리스트\n",
    "# ex) [(0,0), (0,10), (10,10), (10,0), (0,0)]\n",
    "\n",
    "def area_Polygon(pts):\n",
    "    poly_area = 0\n",
    "    for i in range(len(pts)-1):\n",
    "        poly_area += (pts[i][0] * pts[i+1][1]) - (pts[i+1][0] * pts[i][1])\n",
    "    return abs(poly_area) / 2"
   ]
  },
  {
   "cell_type": "code",
   "execution_count": 126,
   "metadata": {},
   "outputs": [],
   "source": [
    "# 다각형의 무게중심 구하기(포인트 리스트)\n",
    "# 공식\n",
    "# Centroid_x = 1/6A (i=0, n-1)sigma (xi * xi+1) (xi yi+1 - xi+1 yi)\n",
    "# Centroid_y = 1/6A (i=0, n-1)sigma (yi * yi+1) (xi yi+1 - xi+1 yi)\n",
    "# A(area) = 1/2(i=0, n-1)sigma (xi yi+1 - xi+1 yi)\n",
    "\n",
    "def centroid_Polygon(pts):\n",
    "    A = area_Polygon(pts)\n",
    "    x = 0\n",
    "    y = 0\n",
    "    for i in range(len(pts)-1):\n",
    "        x += (pts[i][0] + pts[i+1][0]) * ((pts[i][0] * pts[i+1][1]) - (pts[i+1][0] * pts[i][1]))\n",
    "        y += (pts[i][1] + pts[i+1][1]) * ((pts[i][0] * pts[i+1][1]) - (pts[i+1][0] * pts[i][1]))\n",
    "    centroid_x = 1/6 / A * x \n",
    "    centroid_y = 1/6 / A * y\n",
    "    return [centroid_x, centroid_y]"
   ]
  },
  {
   "cell_type": "code",
   "execution_count": 127,
   "metadata": {},
   "outputs": [
    {
     "data": {
      "image/png": "[encoded data removed]",
      "text/plain": [
       "<Figure size 288x288 with 1 Axes>"
      ]
     },
     "metadata": {
      "needs_background": "light"
     },
     "output_type": "display_data"
    },
    {
     "name": "stdout",
     "output_type": "stream",
     "text": [
      "랜덤으로 생성한 Points : [(2, 6), (7, 7), (0, 5), (6, 9), (6, 4)]\n",
      "Polygon 생성을 위해 정렬 조정한 Points : [(6, 4), (7, 7), (6, 9), (2, 6), (0, 5), (6, 4)]\n",
      "구현함수 면적산출 결과 : 16.5\n",
      "내부함수 면적산출 결과 : 16.5\n",
      "무게중심 점 좌표 : [4.434343434343434, 6.06060606060606]\n"
     ]
    }
   ],
   "source": [
    "pts_1 = making_pts(0, 10, 5)\n",
    "pts_2 = making_Polygon(pts_1)\n",
    "polygon = Polygon(pts_2)\n",
    "pts_3 = pts_2\n",
    "pts_3.append(pts_2[0])\n",
    "polygon_area1 = area_Polygon(pts_2)\n",
    "polygon_area2 = polygon.area\n",
    "centroid_polygon = centroid_Polygon(pts_3)\n",
    "centroid_pt = Point(centroid_polygon)\n",
    "\n",
    "fig = plt.figure(figsize=(4, 4))\n",
    "for pt in pts_2:\n",
    "    p = Point(pt)\n",
    "    plt.scatter(p.x, p.y, color='navy')\n",
    "plt.xlim(-2, 12)\n",
    "plt.ylim(-2, 12)\n",
    "plt.plot(*polygon.exterior.xy)\n",
    "plt.scatter(centroid_pt.x, centroid_pt.y, color='navy')\n",
    "plt.show()\n",
    "print(f'랜덤으로 생성한 Points : {pts_1}')\n",
    "print(f'Polygon 생성을 위해 정렬 조정한 Points : {pts_2}')\n",
    "print(f'구현함수 면적산출 결과 : {polygon_area1}')\n",
    "print(f'내부함수 면적산출 결과 : {polygon_area2}')\n",
    "print(f'무게중심 점 좌표 : {centroid_polygon}')"
   ]
  }
 ],
 "metadata": {
  "kernelspec": {
   "display_name": "Python 3 (ipykernel)",
   "language": "python",
   "name": "python3"
  },
  "language_info": {
   "codemirror_mode": {
    "name": "ipython",
    "version": 3
   },
   "file_extension": ".py",
   "mimetype": "text/x-python",
   "name": "python",
   "nbconvert_exporter": "python",
   "pygments_lexer": "ipython3",
   "version": "3.9.6"
  }
 },
 "nbformat": 4,
 "nbformat_minor": 4
}
